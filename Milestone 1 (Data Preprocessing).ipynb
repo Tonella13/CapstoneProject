{
 "cells": [
  {
   "cell_type": "markdown",
   "id": "e8fc6ff5-4806-4133-bf38-36fbd3b6d440",
   "metadata": {},
   "source": [
    "# 1. Loading Libraries"
   ]
  },
  {
   "cell_type": "code",
   "execution_count": 4,
   "id": "b4f6ef5b-c90a-4519-9038-3d5006fb44d7",
   "metadata": {},
   "outputs": [],
   "source": [
    "import pandas as pd\n",
    "import scipy\n",
    "import numpy as np\n",
    "from sklearn.preprocessing import MinMaxScaler\n",
    "import seaborn as sns\n",
    "import matplotlib.pyplot as plt"
   ]
  },
  {
   "cell_type": "markdown",
   "id": "a1bef380-f4a4-4602-a722-9c111ab2bcc8",
   "metadata": {},
   "source": [
    "# 2. Loading and Understanding the Data "
   ]
  },
  {
   "cell_type": "code",
   "execution_count": 6,
   "id": "5c5b462c-8819-4070-8d63-a070b40044ac",
   "metadata": {},
   "outputs": [],
   "source": [
    "df = pd.read_csv('In-vehicle Coupon Recommendation.csv')"
   ]
  },
  {
   "cell_type": "code",
   "execution_count": 9,
   "id": "75d5fb47-ad84-43a8-ac4d-2e73e5218eba",
   "metadata": {},
   "outputs": [
    {
     "data": {
      "text/html": [
       "<div>\n",
       "<style scoped>\n",
       "    .dataframe tbody tr th:only-of-type {\n",
       "        vertical-align: middle;\n",
       "    }\n",
       "\n",
       "    .dataframe tbody tr th {\n",
       "        vertical-align: top;\n",
       "    }\n",
       "\n",
       "    .dataframe thead th {\n",
       "        text-align: right;\n",
       "    }\n",
       "</style>\n",
       "<table border=\"1\" class=\"dataframe\">\n",
       "  <thead>\n",
       "    <tr style=\"text-align: right;\">\n",
       "      <th></th>\n",
       "      <th>destination</th>\n",
       "      <th>passanger</th>\n",
       "      <th>weather</th>\n",
       "      <th>temperature</th>\n",
       "      <th>time</th>\n",
       "      <th>coupon</th>\n",
       "      <th>expiration</th>\n",
       "      <th>gender</th>\n",
       "      <th>age</th>\n",
       "      <th>maritalStatus</th>\n",
       "      <th>...</th>\n",
       "      <th>CoffeeHouse</th>\n",
       "      <th>CarryAway</th>\n",
       "      <th>RestaurantLessThan20</th>\n",
       "      <th>Restaurant20To50</th>\n",
       "      <th>toCoupon_GEQ5min</th>\n",
       "      <th>toCoupon_GEQ15min</th>\n",
       "      <th>toCoupon_GEQ25min</th>\n",
       "      <th>direction_same</th>\n",
       "      <th>direction_opp</th>\n",
       "      <th>Y</th>\n",
       "    </tr>\n",
       "  </thead>\n",
       "  <tbody>\n",
       "    <tr>\n",
       "      <th>0</th>\n",
       "      <td>No Urgent Place</td>\n",
       "      <td>Alone</td>\n",
       "      <td>Sunny</td>\n",
       "      <td>55</td>\n",
       "      <td>2PM</td>\n",
       "      <td>Restaurant(&lt;20)</td>\n",
       "      <td>1d</td>\n",
       "      <td>Female</td>\n",
       "      <td>21</td>\n",
       "      <td>Unmarried partner</td>\n",
       "      <td>...</td>\n",
       "      <td>never</td>\n",
       "      <td>NaN</td>\n",
       "      <td>4~8</td>\n",
       "      <td>1~3</td>\n",
       "      <td>1</td>\n",
       "      <td>0</td>\n",
       "      <td>0</td>\n",
       "      <td>0</td>\n",
       "      <td>1</td>\n",
       "      <td>1</td>\n",
       "    </tr>\n",
       "    <tr>\n",
       "      <th>1</th>\n",
       "      <td>No Urgent Place</td>\n",
       "      <td>Friend(s)</td>\n",
       "      <td>Sunny</td>\n",
       "      <td>80</td>\n",
       "      <td>10AM</td>\n",
       "      <td>Coffee House</td>\n",
       "      <td>2h</td>\n",
       "      <td>Female</td>\n",
       "      <td>21</td>\n",
       "      <td>Unmarried partner</td>\n",
       "      <td>...</td>\n",
       "      <td>never</td>\n",
       "      <td>NaN</td>\n",
       "      <td>4~8</td>\n",
       "      <td>1~3</td>\n",
       "      <td>1</td>\n",
       "      <td>0</td>\n",
       "      <td>0</td>\n",
       "      <td>0</td>\n",
       "      <td>1</td>\n",
       "      <td>0</td>\n",
       "    </tr>\n",
       "    <tr>\n",
       "      <th>2</th>\n",
       "      <td>No Urgent Place</td>\n",
       "      <td>Friend(s)</td>\n",
       "      <td>Sunny</td>\n",
       "      <td>80</td>\n",
       "      <td>10AM</td>\n",
       "      <td>Carry out &amp; Take away</td>\n",
       "      <td>2h</td>\n",
       "      <td>Female</td>\n",
       "      <td>21</td>\n",
       "      <td>Unmarried partner</td>\n",
       "      <td>...</td>\n",
       "      <td>never</td>\n",
       "      <td>NaN</td>\n",
       "      <td>4~8</td>\n",
       "      <td>1~3</td>\n",
       "      <td>1</td>\n",
       "      <td>1</td>\n",
       "      <td>0</td>\n",
       "      <td>0</td>\n",
       "      <td>1</td>\n",
       "      <td>1</td>\n",
       "    </tr>\n",
       "    <tr>\n",
       "      <th>3</th>\n",
       "      <td>No Urgent Place</td>\n",
       "      <td>Friend(s)</td>\n",
       "      <td>Sunny</td>\n",
       "      <td>80</td>\n",
       "      <td>2PM</td>\n",
       "      <td>Coffee House</td>\n",
       "      <td>2h</td>\n",
       "      <td>Female</td>\n",
       "      <td>21</td>\n",
       "      <td>Unmarried partner</td>\n",
       "      <td>...</td>\n",
       "      <td>never</td>\n",
       "      <td>NaN</td>\n",
       "      <td>4~8</td>\n",
       "      <td>1~3</td>\n",
       "      <td>1</td>\n",
       "      <td>1</td>\n",
       "      <td>0</td>\n",
       "      <td>0</td>\n",
       "      <td>1</td>\n",
       "      <td>0</td>\n",
       "    </tr>\n",
       "    <tr>\n",
       "      <th>4</th>\n",
       "      <td>No Urgent Place</td>\n",
       "      <td>Friend(s)</td>\n",
       "      <td>Sunny</td>\n",
       "      <td>80</td>\n",
       "      <td>2PM</td>\n",
       "      <td>Coffee House</td>\n",
       "      <td>1d</td>\n",
       "      <td>Female</td>\n",
       "      <td>21</td>\n",
       "      <td>Unmarried partner</td>\n",
       "      <td>...</td>\n",
       "      <td>never</td>\n",
       "      <td>NaN</td>\n",
       "      <td>4~8</td>\n",
       "      <td>1~3</td>\n",
       "      <td>1</td>\n",
       "      <td>1</td>\n",
       "      <td>0</td>\n",
       "      <td>0</td>\n",
       "      <td>1</td>\n",
       "      <td>0</td>\n",
       "    </tr>\n",
       "  </tbody>\n",
       "</table>\n",
       "<p>5 rows × 26 columns</p>\n",
       "</div>"
      ],
      "text/plain": [
       "       destination  passanger weather  temperature  time  \\\n",
       "0  No Urgent Place      Alone   Sunny           55   2PM   \n",
       "1  No Urgent Place  Friend(s)   Sunny           80  10AM   \n",
       "2  No Urgent Place  Friend(s)   Sunny           80  10AM   \n",
       "3  No Urgent Place  Friend(s)   Sunny           80   2PM   \n",
       "4  No Urgent Place  Friend(s)   Sunny           80   2PM   \n",
       "\n",
       "                  coupon expiration  gender age      maritalStatus  ...  \\\n",
       "0        Restaurant(<20)         1d  Female  21  Unmarried partner  ...   \n",
       "1           Coffee House         2h  Female  21  Unmarried partner  ...   \n",
       "2  Carry out & Take away         2h  Female  21  Unmarried partner  ...   \n",
       "3           Coffee House         2h  Female  21  Unmarried partner  ...   \n",
       "4           Coffee House         1d  Female  21  Unmarried partner  ...   \n",
       "\n",
       "   CoffeeHouse CarryAway RestaurantLessThan20 Restaurant20To50  \\\n",
       "0        never       NaN                  4~8              1~3   \n",
       "1        never       NaN                  4~8              1~3   \n",
       "2        never       NaN                  4~8              1~3   \n",
       "3        never       NaN                  4~8              1~3   \n",
       "4        never       NaN                  4~8              1~3   \n",
       "\n",
       "  toCoupon_GEQ5min toCoupon_GEQ15min toCoupon_GEQ25min direction_same  \\\n",
       "0                1                 0                 0              0   \n",
       "1                1                 0                 0              0   \n",
       "2                1                 1                 0              0   \n",
       "3                1                 1                 0              0   \n",
       "4                1                 1                 0              0   \n",
       "\n",
       "  direction_opp  Y  \n",
       "0             1  1  \n",
       "1             1  0  \n",
       "2             1  1  \n",
       "3             1  0  \n",
       "4             1  0  \n",
       "\n",
       "[5 rows x 26 columns]"
      ]
     },
     "execution_count": 9,
     "metadata": {},
     "output_type": "execute_result"
    }
   ],
   "source": [
    "df.head()"
   ]
  },
  {
   "cell_type": "code",
   "execution_count": 11,
   "id": "b64b7e2b-ef2f-48a6-a2e9-eceb3e8b0533",
   "metadata": {},
   "outputs": [
    {
     "name": "stdout",
     "output_type": "stream",
     "text": [
      "<class 'pandas.core.frame.DataFrame'>\n",
      "RangeIndex: 12684 entries, 0 to 12683\n",
      "Data columns (total 26 columns):\n",
      " #   Column                Non-Null Count  Dtype \n",
      "---  ------                --------------  ----- \n",
      " 0   destination           12684 non-null  object\n",
      " 1   passanger             12684 non-null  object\n",
      " 2   weather               12684 non-null  object\n",
      " 3   temperature           12684 non-null  int64 \n",
      " 4   time                  12684 non-null  object\n",
      " 5   coupon                12684 non-null  object\n",
      " 6   expiration            12684 non-null  object\n",
      " 7   gender                12684 non-null  object\n",
      " 8   age                   12684 non-null  object\n",
      " 9   maritalStatus         12684 non-null  object\n",
      " 10  has_children          12684 non-null  int64 \n",
      " 11  education             12684 non-null  object\n",
      " 12  occupation            12684 non-null  object\n",
      " 13  income                12684 non-null  object\n",
      " 14  car                   108 non-null    object\n",
      " 15  Bar                   12577 non-null  object\n",
      " 16  CoffeeHouse           12467 non-null  object\n",
      " 17  CarryAway             12533 non-null  object\n",
      " 18  RestaurantLessThan20  12554 non-null  object\n",
      " 19  Restaurant20To50      12495 non-null  object\n",
      " 20  toCoupon_GEQ5min      12684 non-null  int64 \n",
      " 21  toCoupon_GEQ15min     12684 non-null  int64 \n",
      " 22  toCoupon_GEQ25min     12684 non-null  int64 \n",
      " 23  direction_same        12684 non-null  int64 \n",
      " 24  direction_opp         12684 non-null  int64 \n",
      " 25  Y                     12684 non-null  int64 \n",
      "dtypes: int64(8), object(18)\n",
      "memory usage: 2.5+ MB\n"
     ]
    }
   ],
   "source": [
    "df.info()"
   ]
  },
  {
   "cell_type": "code",
   "execution_count": 13,
   "id": "2754ba31-944e-4a19-9609-a78df31fb445",
   "metadata": {},
   "outputs": [
    {
     "data": {
      "text/plain": [
       "destination             object\n",
       "passanger               object\n",
       "weather                 object\n",
       "temperature              int64\n",
       "time                    object\n",
       "coupon                  object\n",
       "expiration              object\n",
       "gender                  object\n",
       "age                     object\n",
       "maritalStatus           object\n",
       "has_children             int64\n",
       "education               object\n",
       "occupation              object\n",
       "income                  object\n",
       "car                     object\n",
       "Bar                     object\n",
       "CoffeeHouse             object\n",
       "CarryAway               object\n",
       "RestaurantLessThan20    object\n",
       "Restaurant20To50        object\n",
       "toCoupon_GEQ5min         int64\n",
       "toCoupon_GEQ15min        int64\n",
       "toCoupon_GEQ25min        int64\n",
       "direction_same           int64\n",
       "direction_opp            int64\n",
       "Y                        int64\n",
       "dtype: object"
      ]
     },
     "execution_count": 13,
     "metadata": {},
     "output_type": "execute_result"
    }
   ],
   "source": [
    "df.dtypes"
   ]
  },
  {
   "cell_type": "markdown",
   "id": "3a780f09-8d0f-42f2-bade-86e8b7571d88",
   "metadata": {},
   "source": [
    "# 3. Handling missing data"
   ]
  },
  {
   "cell_type": "code",
   "execution_count": 16,
   "id": "c4f1cb3d-fc78-405e-a56c-09d027e4408d",
   "metadata": {},
   "outputs": [
    {
     "data": {
      "text/plain": [
       "destination                 0\n",
       "passanger                   0\n",
       "weather                     0\n",
       "temperature                 0\n",
       "time                        0\n",
       "coupon                      0\n",
       "expiration                  0\n",
       "gender                      0\n",
       "age                         0\n",
       "maritalStatus               0\n",
       "has_children                0\n",
       "education                   0\n",
       "occupation                  0\n",
       "income                      0\n",
       "car                     12576\n",
       "Bar                       107\n",
       "CoffeeHouse               217\n",
       "CarryAway                 151\n",
       "RestaurantLessThan20      130\n",
       "Restaurant20To50          189\n",
       "toCoupon_GEQ5min            0\n",
       "toCoupon_GEQ15min           0\n",
       "toCoupon_GEQ25min           0\n",
       "direction_same              0\n",
       "direction_opp               0\n",
       "Y                           0\n",
       "dtype: int64"
      ]
     },
     "execution_count": 16,
     "metadata": {},
     "output_type": "execute_result"
    }
   ],
   "source": [
    "df.isnull().sum()"
   ]
  },
  {
   "cell_type": "code",
   "execution_count": 18,
   "id": "94dcff56-1e98-43ff-8ddd-60ca53afecfa",
   "metadata": {},
   "outputs": [],
   "source": [
    "# Car column has too many missing values. It is better to drop it (eliminate)\n",
    "df = df.drop('car', axis=1)"
   ]
  },
  {
   "cell_type": "markdown",
   "id": "2ed0fc6a-0208-4726-bb1e-f82e93c43a89",
   "metadata": {},
   "source": [
    "### Impute Other Missing Values with Mode"
   ]
  },
  {
   "cell_type": "code",
   "execution_count": 21,
   "id": "4bdb3691-b01c-4fe5-9cb1-7188156ef8c6",
   "metadata": {},
   "outputs": [
    {
     "name": "stderr",
     "output_type": "stream",
     "text": [
      "/var/folders/9n/d6hlhfwn4hx2xj22x5rlpx580000gn/T/ipykernel_28463/2240059221.py:6: FutureWarning: A value is trying to be set on a copy of a DataFrame or Series through chained assignment using an inplace method.\n",
      "The behavior will change in pandas 3.0. This inplace method will never work because the intermediate object on which we are setting values always behaves as a copy.\n",
      "\n",
      "For example, when doing 'df[col].method(value, inplace=True)', try using 'df.method({col: value}, inplace=True)' or df[col] = df[col].method(value) instead, to perform the operation inplace on the original object.\n",
      "\n",
      "\n",
      "  df[column].fillna(df[column].mode()[0], inplace=True)\n"
     ]
    }
   ],
   "source": [
    "# List of the categorical columns with missing values\n",
    "columns_to_fill = ['Bar', 'CoffeeHouse', 'Restaurant20To50', 'CarryAway', 'RestaurantLessThan20']\n",
    "\n",
    "# Fill missing values  of these columns with their mode\n",
    "for column in columns_to_fill:\n",
    "    df[column].fillna(df[column].mode()[0], inplace=True)"
   ]
  },
  {
   "cell_type": "markdown",
   "id": "4f81d6cf-4ce2-43f7-bc90-16281ab06b0f",
   "metadata": {},
   "source": [
    "###  Confirm no missing values remain\n"
   ]
  },
  {
   "cell_type": "code",
   "execution_count": 24,
   "id": "1ccb8aa2-a869-4a90-bb6a-e6291b764032",
   "metadata": {},
   "outputs": [
    {
     "data": {
      "text/plain": [
       "destination             0\n",
       "passanger               0\n",
       "weather                 0\n",
       "temperature             0\n",
       "time                    0\n",
       "coupon                  0\n",
       "expiration              0\n",
       "gender                  0\n",
       "age                     0\n",
       "maritalStatus           0\n",
       "has_children            0\n",
       "education               0\n",
       "occupation              0\n",
       "income                  0\n",
       "Bar                     0\n",
       "CoffeeHouse             0\n",
       "CarryAway               0\n",
       "RestaurantLessThan20    0\n",
       "Restaurant20To50        0\n",
       "toCoupon_GEQ5min        0\n",
       "toCoupon_GEQ15min       0\n",
       "toCoupon_GEQ25min       0\n",
       "direction_same          0\n",
       "direction_opp           0\n",
       "Y                       0\n",
       "dtype: int64"
      ]
     },
     "execution_count": 24,
     "metadata": {},
     "output_type": "execute_result"
    }
   ],
   "source": [
    "df.isnull().sum()"
   ]
  },
  {
   "cell_type": "markdown",
   "id": "892ce4f0-fcfb-460e-934d-c4a0fb408c72",
   "metadata": {},
   "source": [
    "# 4. Outlier Treatment"
   ]
  },
  {
   "cell_type": "markdown",
   "id": "46a8fca9-38fb-4ba4-8312-e619446fb782",
   "metadata": {},
   "source": [
    "### Review Summary Stats for Numeric Columns"
   ]
  },
  {
   "cell_type": "code",
   "execution_count": 28,
   "id": "d70deb03-3077-46ed-8e47-bed75999c140",
   "metadata": {},
   "outputs": [
    {
     "data": {
      "text/html": [
       "<div>\n",
       "<style scoped>\n",
       "    .dataframe tbody tr th:only-of-type {\n",
       "        vertical-align: middle;\n",
       "    }\n",
       "\n",
       "    .dataframe tbody tr th {\n",
       "        vertical-align: top;\n",
       "    }\n",
       "\n",
       "    .dataframe thead th {\n",
       "        text-align: right;\n",
       "    }\n",
       "</style>\n",
       "<table border=\"1\" class=\"dataframe\">\n",
       "  <thead>\n",
       "    <tr style=\"text-align: right;\">\n",
       "      <th></th>\n",
       "      <th>temperature</th>\n",
       "      <th>has_children</th>\n",
       "      <th>toCoupon_GEQ5min</th>\n",
       "      <th>toCoupon_GEQ15min</th>\n",
       "      <th>toCoupon_GEQ25min</th>\n",
       "      <th>direction_same</th>\n",
       "      <th>direction_opp</th>\n",
       "      <th>Y</th>\n",
       "    </tr>\n",
       "  </thead>\n",
       "  <tbody>\n",
       "    <tr>\n",
       "      <th>count</th>\n",
       "      <td>12684.000000</td>\n",
       "      <td>12684.000000</td>\n",
       "      <td>12684.0</td>\n",
       "      <td>12684.000000</td>\n",
       "      <td>12684.000000</td>\n",
       "      <td>12684.000000</td>\n",
       "      <td>12684.000000</td>\n",
       "      <td>12684.000000</td>\n",
       "    </tr>\n",
       "    <tr>\n",
       "      <th>mean</th>\n",
       "      <td>63.301798</td>\n",
       "      <td>0.414144</td>\n",
       "      <td>1.0</td>\n",
       "      <td>0.561495</td>\n",
       "      <td>0.119126</td>\n",
       "      <td>0.214759</td>\n",
       "      <td>0.785241</td>\n",
       "      <td>0.568433</td>\n",
       "    </tr>\n",
       "    <tr>\n",
       "      <th>std</th>\n",
       "      <td>19.154486</td>\n",
       "      <td>0.492593</td>\n",
       "      <td>0.0</td>\n",
       "      <td>0.496224</td>\n",
       "      <td>0.323950</td>\n",
       "      <td>0.410671</td>\n",
       "      <td>0.410671</td>\n",
       "      <td>0.495314</td>\n",
       "    </tr>\n",
       "    <tr>\n",
       "      <th>min</th>\n",
       "      <td>30.000000</td>\n",
       "      <td>0.000000</td>\n",
       "      <td>1.0</td>\n",
       "      <td>0.000000</td>\n",
       "      <td>0.000000</td>\n",
       "      <td>0.000000</td>\n",
       "      <td>0.000000</td>\n",
       "      <td>0.000000</td>\n",
       "    </tr>\n",
       "    <tr>\n",
       "      <th>25%</th>\n",
       "      <td>55.000000</td>\n",
       "      <td>0.000000</td>\n",
       "      <td>1.0</td>\n",
       "      <td>0.000000</td>\n",
       "      <td>0.000000</td>\n",
       "      <td>0.000000</td>\n",
       "      <td>1.000000</td>\n",
       "      <td>0.000000</td>\n",
       "    </tr>\n",
       "    <tr>\n",
       "      <th>50%</th>\n",
       "      <td>80.000000</td>\n",
       "      <td>0.000000</td>\n",
       "      <td>1.0</td>\n",
       "      <td>1.000000</td>\n",
       "      <td>0.000000</td>\n",
       "      <td>0.000000</td>\n",
       "      <td>1.000000</td>\n",
       "      <td>1.000000</td>\n",
       "    </tr>\n",
       "    <tr>\n",
       "      <th>75%</th>\n",
       "      <td>80.000000</td>\n",
       "      <td>1.000000</td>\n",
       "      <td>1.0</td>\n",
       "      <td>1.000000</td>\n",
       "      <td>0.000000</td>\n",
       "      <td>0.000000</td>\n",
       "      <td>1.000000</td>\n",
       "      <td>1.000000</td>\n",
       "    </tr>\n",
       "    <tr>\n",
       "      <th>max</th>\n",
       "      <td>80.000000</td>\n",
       "      <td>1.000000</td>\n",
       "      <td>1.0</td>\n",
       "      <td>1.000000</td>\n",
       "      <td>1.000000</td>\n",
       "      <td>1.000000</td>\n",
       "      <td>1.000000</td>\n",
       "      <td>1.000000</td>\n",
       "    </tr>\n",
       "  </tbody>\n",
       "</table>\n",
       "</div>"
      ],
      "text/plain": [
       "        temperature  has_children  toCoupon_GEQ5min  toCoupon_GEQ15min  \\\n",
       "count  12684.000000  12684.000000           12684.0       12684.000000   \n",
       "mean      63.301798      0.414144               1.0           0.561495   \n",
       "std       19.154486      0.492593               0.0           0.496224   \n",
       "min       30.000000      0.000000               1.0           0.000000   \n",
       "25%       55.000000      0.000000               1.0           0.000000   \n",
       "50%       80.000000      0.000000               1.0           1.000000   \n",
       "75%       80.000000      1.000000               1.0           1.000000   \n",
       "max       80.000000      1.000000               1.0           1.000000   \n",
       "\n",
       "       toCoupon_GEQ25min  direction_same  direction_opp             Y  \n",
       "count       12684.000000    12684.000000   12684.000000  12684.000000  \n",
       "mean            0.119126        0.214759       0.785241      0.568433  \n",
       "std             0.323950        0.410671       0.410671      0.495314  \n",
       "min             0.000000        0.000000       0.000000      0.000000  \n",
       "25%             0.000000        0.000000       1.000000      0.000000  \n",
       "50%             0.000000        0.000000       1.000000      1.000000  \n",
       "75%             0.000000        0.000000       1.000000      1.000000  \n",
       "max             1.000000        1.000000       1.000000      1.000000  "
      ]
     },
     "execution_count": 28,
     "metadata": {},
     "output_type": "execute_result"
    }
   ],
   "source": [
    "# Identify numeric columns\n",
    "numeric_cols = df.select_dtypes(include=['int64', 'float64']).columns.tolist()\n",
    "\n",
    "# Show summary statistics\n",
    "df[numeric_cols].describe()\n"
   ]
  },
  {
   "cell_type": "markdown",
   "id": "29aabd7a-dfe5-418c-969a-993a7c9a4fda",
   "metadata": {},
   "source": [
    "# 5. Data Type Corrections"
   ]
  },
  {
   "cell_type": "markdown",
   "id": "16b6712d-ce79-44a1-85fc-d8694fba95bb",
   "metadata": {},
   "source": [
    "### Check Unique Values in Age "
   ]
  },
  {
   "cell_type": "code",
   "execution_count": 32,
   "id": "0f1551f6-7828-4dcf-82c2-2650969734f4",
   "metadata": {},
   "outputs": [
    {
     "name": "stdout",
     "output_type": "stream",
     "text": [
      "['21' '46' '26' '31' '41' '50plus' '36' 'below21']\n"
     ]
    }
   ],
   "source": [
    "# Look at unique values in 'age' column\n",
    "print(df['age'].unique())"
   ]
  },
  {
   "cell_type": "markdown",
   "id": "46e632c4-1829-4100-8d30-f5a5f72f7c2f",
   "metadata": {},
   "source": [
    "#### Output shows values like '21', '26', '50plus', and 'below21',so age should stay as a category."
   ]
  },
  {
   "cell_type": "code",
   "execution_count": 35,
   "id": "8825f5bd-935f-411f-8160-e6b54036b493",
   "metadata": {},
   "outputs": [],
   "source": [
    "# Convert all object-type columns to 'category' type\n",
    "for col in df.select_dtypes(include='object').columns:\n",
    "    df[col] = df[col].astype('category')\n"
   ]
  },
  {
   "cell_type": "code",
   "execution_count": 37,
   "id": "2238c90d-8204-4c90-b9e1-2113dfb75035",
   "metadata": {},
   "outputs": [
    {
     "data": {
      "text/plain": [
       "destination             category\n",
       "passanger               category\n",
       "weather                 category\n",
       "temperature                int64\n",
       "time                    category\n",
       "coupon                  category\n",
       "expiration              category\n",
       "gender                  category\n",
       "age                     category\n",
       "maritalStatus           category\n",
       "has_children               int64\n",
       "education               category\n",
       "occupation              category\n",
       "income                  category\n",
       "Bar                     category\n",
       "CoffeeHouse             category\n",
       "CarryAway               category\n",
       "RestaurantLessThan20    category\n",
       "Restaurant20To50        category\n",
       "toCoupon_GEQ5min           int64\n",
       "toCoupon_GEQ15min          int64\n",
       "toCoupon_GEQ25min          int64\n",
       "direction_same             int64\n",
       "direction_opp              int64\n",
       "Y                          int64\n",
       "dtype: object"
      ]
     },
     "execution_count": 37,
     "metadata": {},
     "output_type": "execute_result"
    }
   ],
   "source": [
    "# Confirm data types\n",
    "df.dtypes"
   ]
  },
  {
   "cell_type": "markdown",
   "id": "7de8e0ee-fe1e-4a66-a400-3667d1f446d1",
   "metadata": {},
   "source": [
    "# 6. Encoding Categorical Variables"
   ]
  },
  {
   "cell_type": "markdown",
   "id": "30722d5c-8a70-4244-b492-32c9396dd7b2",
   "metadata": {},
   "source": [
    "## Apply One-Hot Encoding to Categorical Columns"
   ]
  },
  {
   "cell_type": "code",
   "execution_count": 41,
   "id": "6f8aa3e1-2fe7-4390-98b9-7b191a76c5bb",
   "metadata": {},
   "outputs": [],
   "source": [
    "# Performing one-hot encoding on all categorical variables\n",
    "df_encoded = pd.get_dummies(df, drop_first=True)"
   ]
  },
  {
   "cell_type": "markdown",
   "id": "5c4f5707-995d-4b73-b482-91f604cd3ab8",
   "metadata": {},
   "source": [
    "# 7.Feature Engineering (Optional)"
   ]
  },
  {
   "cell_type": "markdown",
   "id": "70ff4b1f-81dc-4f1c-8ab2-0c023b60a451",
   "metadata": {},
   "source": [
    "#### Markdown Cell\n"
   ]
  },
  {
   "cell_type": "markdown",
   "id": "7171ad41-1161-424d-a228-355ab4800271",
   "metadata": {},
   "source": [
    "#### In this step, we create or modify features to improve the model's ability to learn patterns. \n",
    "For this dataset, we will:\n",
    "- Group income levels into Low, Medium, and High.\n",
    "- Create a binary flag to show if someone is traveling alone.\n",
    "- Create a new feature to group the time into morning, afternoon, and evening.\n"
   ]
  },
  {
   "cell_type": "code",
   "execution_count": 46,
   "id": "8cb808af-2924-4c25-9504-108dd3cbc454",
   "metadata": {},
   "outputs": [],
   "source": [
    "# Simplify income into 3 groups\n",
    "def simplify_income(income):\n",
    "    if income in ['Less than $12500', '$12500 - $24999', '$25000 - $37499']:\n",
    "        return 'Low'\n",
    "    elif income in ['$37500 - $49999', '$50000 - $62499']:\n",
    "        return 'Medium'\n",
    "    else:\n",
    "        return 'High'\n",
    "\n",
    "df['income_group'] = df['income'].apply(simplify_income)\n"
   ]
  },
  {
   "cell_type": "markdown",
   "id": "c8390443-f115-45d1-a29a-13a357db2757",
   "metadata": {},
   "source": [
    "#### Code cell: Create is_alone Feature"
   ]
  },
  {
   "cell_type": "code",
   "execution_count": 49,
   "id": "c210bd18-5f4b-4333-a947-1ec21bb55c53",
   "metadata": {},
   "outputs": [],
   "source": [
    "# Create binary column: 1 if alone, else 0\n",
    "df['is_alone'] = df['passanger'].apply(lambda x: 1 if x == 'Alone' else 0)\n"
   ]
  },
  {
   "cell_type": "markdown",
   "id": "c0c8a848-7ead-4817-997b-4ea4966a8275",
   "metadata": {},
   "source": [
    "#### Code Cell – Create part_of_day Feature"
   ]
  },
  {
   "cell_type": "code",
   "execution_count": 52,
   "id": "541ebc00-ec8d-47a7-8360-3637af558d77",
   "metadata": {},
   "outputs": [],
   "source": [
    "# Convert time into part of the day\n",
    "def time_of_day(t):\n",
    "    if t in ['7AM', '10AM']:\n",
    "        return 'Morning'\n",
    "    elif t in ['2PM', '6PM']:\n",
    "        return 'Afternoon'\n",
    "    else:\n",
    "        return 'Evening'\n",
    "\n",
    "df['part_of_day'] = df['time'].apply(time_of_day)\n"
   ]
  },
  {
   "cell_type": "markdown",
   "id": "fa68bad7-6d81-4029-9250-a886d0ce9b83",
   "metadata": {},
   "source": [
    "### Check New Features"
   ]
  },
  {
   "cell_type": "code",
   "execution_count": 55,
   "id": "53d57ea2-d23d-480a-aa53-e14c0975ba27",
   "metadata": {},
   "outputs": [
    {
     "data": {
      "text/html": [
       "<div>\n",
       "<style scoped>\n",
       "    .dataframe tbody tr th:only-of-type {\n",
       "        vertical-align: middle;\n",
       "    }\n",
       "\n",
       "    .dataframe tbody tr th {\n",
       "        vertical-align: top;\n",
       "    }\n",
       "\n",
       "    .dataframe thead th {\n",
       "        text-align: right;\n",
       "    }\n",
       "</style>\n",
       "<table border=\"1\" class=\"dataframe\">\n",
       "  <thead>\n",
       "    <tr style=\"text-align: right;\">\n",
       "      <th></th>\n",
       "      <th>income</th>\n",
       "      <th>income_group</th>\n",
       "      <th>passanger</th>\n",
       "      <th>is_alone</th>\n",
       "      <th>time</th>\n",
       "      <th>part_of_day</th>\n",
       "    </tr>\n",
       "  </thead>\n",
       "  <tbody>\n",
       "    <tr>\n",
       "      <th>0</th>\n",
       "      <td>$37500 - $49999</td>\n",
       "      <td>Medium</td>\n",
       "      <td>Alone</td>\n",
       "      <td>1</td>\n",
       "      <td>2PM</td>\n",
       "      <td>Afternoon</td>\n",
       "    </tr>\n",
       "    <tr>\n",
       "      <th>1</th>\n",
       "      <td>$37500 - $49999</td>\n",
       "      <td>Medium</td>\n",
       "      <td>Friend(s)</td>\n",
       "      <td>0</td>\n",
       "      <td>10AM</td>\n",
       "      <td>Morning</td>\n",
       "    </tr>\n",
       "    <tr>\n",
       "      <th>2</th>\n",
       "      <td>$37500 - $49999</td>\n",
       "      <td>Medium</td>\n",
       "      <td>Friend(s)</td>\n",
       "      <td>0</td>\n",
       "      <td>10AM</td>\n",
       "      <td>Morning</td>\n",
       "    </tr>\n",
       "    <tr>\n",
       "      <th>3</th>\n",
       "      <td>$37500 - $49999</td>\n",
       "      <td>Medium</td>\n",
       "      <td>Friend(s)</td>\n",
       "      <td>0</td>\n",
       "      <td>2PM</td>\n",
       "      <td>Afternoon</td>\n",
       "    </tr>\n",
       "    <tr>\n",
       "      <th>4</th>\n",
       "      <td>$37500 - $49999</td>\n",
       "      <td>Medium</td>\n",
       "      <td>Friend(s)</td>\n",
       "      <td>0</td>\n",
       "      <td>2PM</td>\n",
       "      <td>Afternoon</td>\n",
       "    </tr>\n",
       "  </tbody>\n",
       "</table>\n",
       "</div>"
      ],
      "text/plain": [
       "            income income_group  passanger  is_alone  time part_of_day\n",
       "0  $37500 - $49999       Medium      Alone         1   2PM   Afternoon\n",
       "1  $37500 - $49999       Medium  Friend(s)         0  10AM     Morning\n",
       "2  $37500 - $49999       Medium  Friend(s)         0  10AM     Morning\n",
       "3  $37500 - $49999       Medium  Friend(s)         0   2PM   Afternoon\n",
       "4  $37500 - $49999       Medium  Friend(s)         0   2PM   Afternoon"
      ]
     },
     "execution_count": 55,
     "metadata": {},
     "output_type": "execute_result"
    }
   ],
   "source": [
    "# Preview the new columns\n",
    "df[['income', 'income_group', 'passanger', 'is_alone', 'time', 'part_of_day']].head()\n"
   ]
  },
  {
   "cell_type": "markdown",
   "id": "c48582c9-655b-4515-a182-84b38f6c6f9e",
   "metadata": {},
   "source": [
    "# 8.Save Cleaned Dataset"
   ]
  },
  {
   "cell_type": "code",
   "execution_count": 60,
   "id": "a39300ec-c13c-4fc8-a452-eaf416cdf55b",
   "metadata": {},
   "outputs": [],
   "source": [
    "# Save the final cleaned dataset to a CSV file\n",
    "df_encoded = pd.get_dummies(df, drop_first=True)\n",
    "df_encoded.to_csv('In-vehicle Coupon Recommendation-cleaned_dataset.csv', index=False)\n"
   ]
  }
 ],
 "metadata": {
  "kernelspec": {
   "display_name": "Python 3 (ipykernel)",
   "language": "python",
   "name": "python3"
  },
  "language_info": {
   "codemirror_mode": {
    "name": "ipython",
    "version": 3
   },
   "file_extension": ".py",
   "mimetype": "text/x-python",
   "name": "python",
   "nbconvert_exporter": "python",
   "pygments_lexer": "ipython3",
   "version": "3.11.5"
  }
 },
 "nbformat": 4,
 "nbformat_minor": 5
}
